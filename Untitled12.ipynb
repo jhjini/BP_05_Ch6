{
  "nbformat": 4,
  "nbformat_minor": 0,
  "metadata": {
    "colab": {
      "provenance": [],
      "authorship_tag": "ABX9TyNqQ9jrSJZ5eVeVGNlt/L/f",
      "include_colab_link": true
    },
    "kernelspec": {
      "name": "python3",
      "display_name": "Python 3"
    },
    "language_info": {
      "name": "python"
    }
  },
  "cells": [
    {
      "cell_type": "markdown",
      "metadata": {
        "id": "view-in-github",
        "colab_type": "text"
      },
      "source": [
        "<a href=\"https://colab.research.google.com/github/jhjini/BP_05_Ch6/blob/main/Untitled12.ipynb\" target=\"_parent\"><img src=\"https://colab.research.google.com/assets/colab-badge.svg\" alt=\"Open In Colab\"/></a>"
      ]
    },
    {
      "cell_type": "markdown",
      "source": [
        "1.2부터 100 사이의 모든 짝수를 출력하는 반복 루프를 작성한다.(x%2한 결과가 0이면 x는 짝수이다.)"
      ],
      "metadata": {
        "id": "eU-rXuXLUaGF"
      }
    },
    {
      "cell_type": "code",
      "source": [
        "for i in range(2, 101):\n",
        "  if i%2==0 :\n",
        "    print(i, end =\" \")"
      ],
      "metadata": {
        "colab": {
          "base_uri": "https://localhost:8080/"
        },
        "id": "6XNcma-JUuYF",
        "outputId": "9c3a9ff5-cb94-44ad-c151-54ea197c859a"
      },
      "execution_count": 1,
      "outputs": [
        {
          "output_type": "stream",
          "name": "stdout",
          "text": [
            "2 4 6 8 10 12 14 16 18 20 22 24 26 28 30 32 34 36 38 40 42 44 46 48 50 52 54 56 58 60 62 64 66 68 70 72 74 76 78 80 82 84 86 88 90 92 94 96 98 100 "
          ]
        }
      ]
    },
    {
      "cell_type": "markdown",
      "source": [
        "2.어떤 사람이 복리이자율 7%로 1000만원을 저금했을 경우에 2000만원이 되는데 몇 년이 걸리는지 계산하기 위하여 다음과 코드를 작성하였다. 잘못된 점은 크게 없는지 체크해 보자.(반복 조건을 유심히 살펴보자.)"
      ],
      "metadata": {
        "id": "NWON7dLOU774"
      }
    },
    {
      "cell_type": "code",
      "source": [
        "year = 0\n",
        "balance = 1000\n",
        "\n",
        "while balance <= 2000 :\n",
        "  year = year + 1\n",
        "  interest = balance * 0.07\n",
        "  balance = balance + interest\n",
        "print(year, \"년이 걸립니다.\")"
      ],
      "metadata": {
        "colab": {
          "base_uri": "https://localhost:8080/"
        },
        "id": "GJCkJFKMVO5c",
        "outputId": "a4ca32bc-781b-4fce-8624-7e9e2d122734"
      },
      "execution_count": 3,
      "outputs": [
        {
          "output_type": "stream",
          "name": "stdout",
          "text": [
            "11 년이 걸립니다.\n"
          ]
        }
      ]
    },
    {
      "cell_type": "markdown",
      "source": [
        "3.다음 코드의 출력을 예상해보자. 각 단계에서 변수의 값을 예상해보시오.(%는 나머지를 계산하는 연산자이다. //은 나눗셈에서 몫을 계산한다.)"
      ],
      "metadata": {
        "id": "uFHxApP8WAfY"
      }
    },
    {
      "cell_type": "code",
      "source": [
        "n = 1234\n",
        "sum = 0\n",
        "while n > 0 :\n",
        "  digit = n % 10\n",
        "  sum = sum + digit\n",
        "  n = n // 10\n",
        "print(sum)"
      ],
      "metadata": {
        "colab": {
          "base_uri": "https://localhost:8080/"
        },
        "id": "7coB8fPMWQyl",
        "outputId": "f49c45ca-d1d9-4b9c-a21d-1a9313ae64ca"
      },
      "execution_count": 11,
      "outputs": [
        {
          "output_type": "stream",
          "name": "stdout",
          "text": [
            "10\n"
          ]
        }
      ]
    },
    {
      "cell_type": "markdown",
      "source": [
        "4. 사용자에게 곱셈 퀴즈를 내고 답을 사용자로부터 받는 프로그램에서 사용자가 올바른 답을 입력할 때까지 반복하도록 수정하여 보자.(어떤 조건이 만족될 때까지 반복하는 것은 while 루프이다.)"
      ],
      "metadata": {
        "id": "t_lQy2PsXPIM"
      }
    },
    {
      "cell_type": "code",
      "source": [
        "ans = 0\n",
        "while ans != 3*9:                                                        #!= 같지않다\n",
        "  ans = int(input(\"3*9는\"))\n",
        "print(\"맞았습니다.\")"
      ],
      "metadata": {
        "colab": {
          "base_uri": "https://localhost:8080/"
        },
        "id": "STGfE_RwXdqp",
        "outputId": "a59d2618-a26e-489a-ae66-b5180c714082"
      },
      "execution_count": 12,
      "outputs": [
        {
          "output_type": "stream",
          "name": "stdout",
          "text": [
            "3*9는8\n",
            "3*9는9\n",
            "3*9는27\n",
            "맞았습니다.\n"
          ]
        }
      ]
    },
    {
      "cell_type": "markdown",
      "source": [
        "사용자가 입력한 정수의 합을 계산하는 프로그램을 작성하자. 사용자가 0을 입력하기 전까지 정수를 계속하여 읽도록 한다.(무한 루프를 작성하고 사용자가 입력한 값이 0이면 break문장을 실행하여 반복 루프를 빠져나간다. 무한 루프는 while True:로 만든다.)"
      ],
      "metadata": {
        "id": "zC8hAgNIXvh9"
      }
    },
    {
      "cell_type": "code",
      "source": [
        "from re import T\n",
        "sum=0\n",
        "while True:\n",
        "  x=int(input(\"정수를 입력하시오: \"))\n",
        "  if x == 0:\n",
        "    break;\n",
        "  sum=sum+x\n",
        "\n",
        "print(\"합은 \", sum, \"입니다.\")"
      ],
      "metadata": {
        "colab": {
          "base_uri": "https://localhost:8080/"
        },
        "id": "hgBU1kkJYJ7c",
        "outputId": "d5da1ec0-17de-4272-cbc5-73d0d6213411"
      },
      "execution_count": 14,
      "outputs": [
        {
          "output_type": "stream",
          "name": "stdout",
          "text": [
            "정수를 입력하시오: 1\n",
            "정수를 입력하시오: 2\n",
            "정수를 입력하시오: 3\n",
            "정수를 입력하시오: 0\n",
            "합은  6 입니다.\n"
          ]
        }
      ]
    },
    {
      "cell_type": "markdown",
      "source": [
        "6.난수 생성 함수를 사용하여서 2개의 주사위를 던졌을 때 나오는 수를 다음과 같이 출력하여 보자.(1부터 6사이의 난수를 발생하려면 r=random.randint(1, 6) 문장을 사용한다. 프로그램의 첫 부분에 import random 문장도 추가해야 한다.)"
      ],
      "metadata": {
        "id": "8f0i9R-MYp4X"
      }
    },
    {
      "cell_type": "code",
      "source": [
        "from random import randint\n",
        "\n",
        "for i in range(3) :\n",
        "  d1 = randint(1, 6)\n",
        "  d2 = randint(1, 6)\n",
        "  print(\"첫번째 주사위=\", d1, \"두번째 주사위=\", d2)"
      ],
      "metadata": {
        "colab": {
          "base_uri": "https://localhost:8080/"
        },
        "id": "g2jFxY23ZDzD",
        "outputId": "4016838b-c221-4aed-e307-2f18ed4e2a9f"
      },
      "execution_count": 17,
      "outputs": [
        {
          "output_type": "stream",
          "name": "stdout",
          "text": [
            "첫번째 주사위= 6 두번째 주사위= 4\n",
            "첫번째 주사위= 3 두번째 주사위= 2\n",
            "첫번째 주사위= 3 두번째 주사위= 1\n"
          ]
        }
      ]
    },
    {
      "cell_type": "markdown",
      "source": [
        "7. 터틀 그래픽과 반복을 사용하여 눈 모양을 그려보자."
      ],
      "metadata": {
        "id": "zgZG4LF5f-F_"
      }
    },
    {
      "cell_type": "code",
      "source": [
        "import turtle\n",
        "\n",
        "t=turtle.Turtle()\n",
        "t.shape(\"turtle\")\n",
        "t.left(90)\n",
        "\n",
        "for i in range (1, 7):\n",
        "    t.forward(100)\n",
        "    t.forward(-30)\n",
        "    t.left(60)\n",
        "    t.forward(30)\n",
        "    t.forward(-30)\n",
        "\n",
        "    t.right(120)\n",
        "    t.forward(30)\n",
        "    t.forward(-30)\n",
        "\n",
        "    t.left(60)\n",
        "    t.forward(-70)\n",
        "    t.left(60)"
      ],
      "metadata": {
        "id": "eSSNOXcLgIgz"
      },
      "execution_count": null,
      "outputs": []
    },
    {
      "cell_type": "markdown",
      "source": [
        "8. 우리는 이번 장에서 터틀 그래픽으로 별을 그려보았다. 이 코드를 응용하여서 다음과 같이 10개의 별을 그리는 프로그램을 작성하라. 별들은 시작 각도가 약간씩 다르다."
      ],
      "metadata": {
        "id": "rjPWG2EJgNQ-"
      }
    },
    {
      "cell_type": "code",
      "source": [
        "import turtle\n",
        "\n",
        "myPen=turtle.Turtle()\n",
        "myPen.speed(0)\n",
        "myPen.color(\"#FF0000\")                                   # RGB, 생생한 빨간색\n",
        "\n",
        "for j in range (1, 10):\n",
        "   for i in range (1, 6):\n",
        "       myPen.left(144)\n",
        "       myPen.forward(200)\n",
        "   myPen.left(10)"
      ],
      "metadata": {
        "id": "tSA2BBrHgcAP"
      },
      "execution_count": null,
      "outputs": []
    },
    {
      "cell_type": "markdown",
      "source": [
        "9. 반복과 난수를 함께 사용하면 화면에 랜덤한 원을 그릴 수 있다. 화면에 10개의 랜덤한 원을 그리는 프로그램을 작성하라. 원의 중심과 반지름이 모두 난수이어야 한다."
      ],
      "metadata": {
        "id": "R6VhgsZVghPA"
      }
    },
    {
      "cell_type": "code",
      "source": [
        "import turtle\n",
        "import random\n",
        "\n",
        "t=turtle.Turtle()\n",
        "t.shape(\"turtle\")\n",
        "\n",
        "for j in range (1,10):\n",
        "   t.up()\n",
        "   x=random.randint(-200, 200)\n",
        "   y=random.randint(-200, 200)\n",
        "   r=random.randint(10, 200)\n",
        "   t.goto(x, y)\n",
        "   t.down()\n",
        "   t.circle(r)"
      ],
      "metadata": {
        "id": "ODkXe2H0gtz7"
      },
      "execution_count": null,
      "outputs": []
    },
    {
      "cell_type": "markdown",
      "source": [
        "10. 다음과 같이 거북이를 왕복 달리기시키는 프로그램을 작성해보자."
      ],
      "metadata": {
        "id": "AW-ZAA0hg0n_"
      }
    },
    {
      "cell_type": "code",
      "source": [
        "import turtle\n",
        "\n",
        "t=turtle.Turtle()\n",
        "t.shape(\"turtle\")\n",
        "\n",
        "for i in range(5):\n",
        "    t.forward(200);\n",
        "    t.right(90)\n",
        "    t.forward(20);\n",
        "    t.right(90)\n",
        "    t.forward(200);\n",
        "    t.left(90)\n",
        "    t.forward(20);\n",
        "    t.left(90)\n"
      ],
      "metadata": {
        "id": "7WZvPIoDg5WP"
      },
      "execution_count": null,
      "outputs": []
    },
    {
      "cell_type": "markdown",
      "source": [
        "11. 다음의 터틀 그랙픽 프로그램을 분석해보자. 학습하지 않은 함수가 있다면 인터넷에서 조사하여 보자."
      ],
      "metadata": {
        "id": "fupt7yWHg-85"
      }
    },
    {
      "cell_type": "code",
      "source": [
        "import turtle\n",
        "t=turtle.Turtle()\n",
        "t.shape(\"turtle\")\n",
        "t.color('red', 'yellow')\n",
        "t.begin_fill()\n",
        "while True:                                        # 참의 값\n",
        "    t.forward(200)                                 # abs 내장함수, 절대값\n",
        "    t.left(170)\n",
        "    if abs(t.pos()) < 1:\n",
        "       break\n",
        "t.end_fill()"
      ],
      "metadata": {
        "id": "ory8RjCrhIud"
      },
      "execution_count": null,
      "outputs": []
    },
    {
      "cell_type": "markdown",
      "source": [
        "12. 터틀 그래픽과 반복을 사용하여 싸인(sine) 그래프를 그려보자. 거북이를 싸인값에 따라서 움직이면 된다."
      ],
      "metadata": {
        "id": "aTtXdOGNhMKs"
      }
    },
    {
      "cell_type": "code",
      "source": [
        "import turtle\n",
        "import math\n",
        "\n",
        "t=turtle.Turtle()\n",
        "t.shape(\"turtle\")\n",
        "t.color('red', 'yellow')\n",
        "\n",
        "for x in range(0, 360):\n",
        "      t.goto(x, 200*math.sin(x*3.14/180))"
      ],
      "metadata": {
        "id": "O-A-o_kxhWkF"
      },
      "execution_count": null,
      "outputs": []
    }
  ]
}